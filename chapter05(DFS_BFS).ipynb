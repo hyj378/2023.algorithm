{
  "nbformat": 4,
  "nbformat_minor": 0,
  "metadata": {
    "colab": {
      "provenance": [],
      "authorship_tag": "ABX9TyOYf6E/zc/dMK4Vv9JvqZp0",
      "include_colab_link": true
    },
    "kernelspec": {
      "name": "python3",
      "display_name": "Python 3"
    },
    "language_info": {
      "name": "python"
    }
  },
  "cells": [
    {
      "cell_type": "markdown",
      "metadata": {
        "id": "view-in-github",
        "colab_type": "text"
      },
      "source": [
        "<a href=\"https://colab.research.google.com/github/hyj378/2023.algorithm/blob/main/chapter05(DFS_BFS).ipynb\" target=\"_parent\"><img src=\"https://colab.research.google.com/assets/colab-badge.svg\" alt=\"Open In Colab\"/></a>"
      ]
    },
    {
      "cell_type": "markdown",
      "source": [
        "아쉬운점.\n",
        "역시 교재 내부의 코드가 더 깔끔하다.\n",
        "노드의 값 자체를 변경한다는 아이디어도 기억해두자."
      ],
      "metadata": {
        "id": "mtWPnCmFMj5k"
      }
    },
    {
      "cell_type": "code",
      "execution_count": 29,
      "metadata": {
        "colab": {
          "base_uri": "https://localhost:8080/"
        },
        "id": "-SOy9zZfjNF0",
        "outputId": "aee502ea-f76e-4829-ae5a-358402bae09e"
      },
      "outputs": [
        {
          "name": "stdout",
          "output_type": "stream",
          "text": [
            "15 14\n",
            "00000111100000\n",
            "11111101111110\n",
            "11011101101110\n",
            "11011101100000\n",
            "11011111111111\n",
            "11011111111100\n",
            "11000000011111\n",
            "01111111111111\n",
            "00000000011111\n",
            "01111111111000\n",
            "00011111111000\n",
            "00000001111000\n",
            "11111111110011\n",
            "11100011111111\n",
            "11100011111111\n"
          ]
        }
      ],
      "source": [
        "# 3tl 20qns\n",
        "def search(box, visited, i_n, i_m, N, M):\n",
        "  _type_ = box[i_n][i_m]\n",
        "  visited[i_n][i_m] = 1\n",
        "  if i_n + 1 < N and visited[i_n+1][i_m] == 0 and box[i_n+1][i_m] == _type_:\n",
        "    visited, _type_ = search(box, visited, i_n+1, i_m, N, M)\n",
        "  if i_m + 1 < M and visited[i_n][i_m+1] == 0 and box[i_n][i_m+1] == _type_:\n",
        "    visited, _type_ = search(box, visited, i_n, i_m+1, N, M)\n",
        "  if i_n - 1 >= 0 and visited[i_n-1][i_m] == 0 and box[i_n-1][i_m] == _type_:\n",
        "    visited, _type_ = search(box, visited, i_n-1, i_m, N, M)\n",
        "  if i_m - 1 >= 0 and visited[i_n][i_m-1] == 0 and box[i_n][i_m-1] == _type_:\n",
        "    visited, _type_ = search(box, visited, i_n, i_m-1, N, M)\n",
        "  return visited, _type_\n",
        "\n",
        "n, m = map(int, input().split()) # n 행, m 열\n",
        "box = [[] for _ in range(n)]\n",
        "visited = [[0]*m for _ in range(n)]\n",
        "# 입력받기\n",
        "for i in range(n):\n",
        "  _line_ = input()\n",
        "  box[i] = [int(i) for i in _line_]\n",
        "# 탐색\n",
        "count_0 = 0\n",
        "count_1 = 0\n",
        "for i_n in range(n):\n",
        "  for i_m in range(m):\n",
        "    if visited[i_n][i_m] == 1:\n",
        "      continue\n",
        "    visited, _type_ = search(box, visited, i_n, i_m, n, m)\n",
        "    if _type_ == 0:\n",
        "      count_0 += 1\n",
        "    elif _type_ == 1:\n",
        "      count_1 += 1\n",
        "    else:\n",
        "      print(\"error\")"
      ]
    },
    {
      "cell_type": "code",
      "source": [
        "print(count_1)"
      ],
      "metadata": {
        "colab": {
          "base_uri": "https://localhost:8080/"
        },
        "id": "iijCgkwslNWR",
        "outputId": "93995bb0-48d1-42ca-bc89-78764060574f"
      },
      "execution_count": 30,
      "outputs": [
        {
          "output_type": "stream",
          "name": "stdout",
          "text": [
            "1\n"
          ]
        }
      ]
    },
    {
      "cell_type": "code",
      "source": [
        "print(count_0)"
      ],
      "metadata": {
        "colab": {
          "base_uri": "https://localhost:8080/"
        },
        "id": "_fqe4Vh-lORV",
        "outputId": "ac1ee365-37f9-4f7a-ec67-2bd86dd89508"
      },
      "execution_count": 31,
      "outputs": [
        {
          "output_type": "stream",
          "name": "stdout",
          "text": [
            "8\n"
          ]
        }
      ]
    },
    {
      "cell_type": "code",
      "source": [
        "# 30\n",
        "def get_distance(graph, visited, distance, i_n, i_m, N, M):\n",
        "  visited[i_n][i_m] = 1\n",
        "  distance += 1\n",
        "  if i_n+1 < N and visited[i_n+1][i_m] == 0 and graph[i_n+1][i_m] == 1:\n",
        "    visited, distance = get_distance(graph, visited, distance, i_n+1, i_m, N, M)\n",
        "  elif i_m+1 < M and visited[i_n][i_m+1] == 0 and graph[i_n][i_m+1] == 1:\n",
        "    visited, distance = get_distance(graph, visited, distance, i_n, i_m+1, N, M)\n",
        "  return visited, distance\n",
        "\n",
        "N, M = map(int, input().split())\n",
        "visited = [[0]*M for _ in range(N)]\n",
        "graph = []\n",
        "for i in range(N):\n",
        "  line = input()\n",
        "  graph.append([int(i) for i in line])\n",
        "\n",
        "# 재귀를 통한 경로탐색\n",
        "visited, distance = get_distance(graph, visited, 0, 0, 0, N, M)\n",
        "print(distance)"
      ],
      "metadata": {
        "colab": {
          "base_uri": "https://localhost:8080/"
        },
        "id": "GHyQi32HlYMt",
        "outputId": "cc2992fe-9d22-403b-8d8c-6b45b7c4a45e"
      },
      "execution_count": 32,
      "outputs": [
        {
          "output_type": "stream",
          "name": "stdout",
          "text": [
            "5 6\n",
            "101010\n",
            "111111\n",
            "000001\n",
            "111111\n",
            "111111\n",
            "10\n"
          ]
        }
      ]
    },
    {
      "cell_type": "code",
      "source": [],
      "metadata": {
        "id": "Ok4xWz47IS7N"
      },
      "execution_count": null,
      "outputs": []
    }
  ]
}